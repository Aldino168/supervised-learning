{
 "cells": [
  {
   "cell_type": "code",
   "execution_count": 19,
   "id": "a063d39b",
   "metadata": {},
   "outputs": [],
   "source": [
    "import numpy as np\n",
    "import pandas as pd\n",
    "\n",
    "from luwiji.pandas import illustration"
   ]
  },
  {
   "cell_type": "code",
   "execution_count": 20,
   "id": "81e1ecc3",
   "metadata": {},
   "outputs": [],
   "source": [
    "df=pd.read_csv(\"data/cereal_impute.csv\", index_col='name')"
   ]
  },
  {
   "cell_type": "code",
   "execution_count": 28,
   "id": "21c78cdc",
   "metadata": {},
   "outputs": [
    {
     "data": {
      "text/plain": [
       "mfr                                                         R\n",
       "type                                                        C\n",
       "calories                                                  110\n",
       "protein                                                     2\n",
       "fat                                                         2\n",
       "sodium                                                    200\n",
       "fiber                                                     1.0\n",
       "carbo                                                    14.0\n",
       "sugars                                                    8.0\n",
       "potass      <bound method NDFrame._add_numeric_operations....\n",
       "vitamins                                               FDA_25\n",
       "shelf                                                       3\n",
       "weight                                                    1.0\n",
       "cups                                                     0.75\n",
       "rating                                              34.384843\n",
       "Name: Almond Delight, dtype: object"
      ]
     },
     "execution_count": 28,
     "metadata": {},
     "output_type": "execute_result"
    }
   ],
   "source": [
    "df.loc[\"Almond Delight\"]"
   ]
  },
  {
   "cell_type": "code",
   "execution_count": 5,
   "id": "b3d631d4",
   "metadata": {},
   "outputs": [
    {
     "name": "stdout",
     "output_type": "stream",
     "text": [
      "<class 'pandas.core.frame.DataFrame'>\n",
      "Index: 77 entries, 100% Bran to Wheaties Honey Gold\n",
      "Data columns (total 15 columns):\n",
      " #   Column    Non-Null Count  Dtype  \n",
      "---  ------    --------------  -----  \n",
      " 0   mfr       77 non-null     object \n",
      " 1   type      77 non-null     object \n",
      " 2   calories  77 non-null     int64  \n",
      " 3   protein   77 non-null     int64  \n",
      " 4   fat       77 non-null     int64  \n",
      " 5   sodium    77 non-null     int64  \n",
      " 6   fiber     77 non-null     float64\n",
      " 7   carbo     77 non-null     object \n",
      " 8   sugars    77 non-null     object \n",
      " 9   potass    77 non-null     object \n",
      " 10  vitamins  77 non-null     object \n",
      " 11  shelf     77 non-null     int64  \n",
      " 12  weight    77 non-null     float64\n",
      " 13  cups      77 non-null     float64\n",
      " 14  rating    77 non-null     float64\n",
      "dtypes: float64(4), int64(5), object(6)\n",
      "memory usage: 9.6+ KB\n"
     ]
    }
   ],
   "source": [
    "df.info()"
   ]
  },
  {
   "cell_type": "code",
   "execution_count": null,
   "id": "cdb4cf7c",
   "metadata": {},
   "outputs": [],
   "source": []
  }
 ],
 "metadata": {
  "kernelspec": {
   "display_name": "Python 3",
   "language": "python",
   "name": "python3"
  },
  "language_info": {
   "codemirror_mode": {
    "name": "ipython",
    "version": 3
   },
   "file_extension": ".py",
   "mimetype": "text/x-python",
   "name": "python",
   "nbconvert_exporter": "python",
   "pygments_lexer": "ipython3",
   "version": "3.8.8"
  }
 },
 "nbformat": 4,
 "nbformat_minor": 5
}
