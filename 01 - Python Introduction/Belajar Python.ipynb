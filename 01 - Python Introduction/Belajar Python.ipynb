{
 "cells": [
  {
   "cell_type": "markdown",
   "id": "76c15436",
   "metadata": {},
   "source": [
    "# fungsi\n",
    "### def nama_fungsi (input)\n",
    "     return output"
   ]
  },
  {
   "cell_type": "markdown",
   "id": "e2c4a706",
   "metadata": {},
   "source": [
    "# List \n",
    "### [   ,    ,   ,]\n",
    "### untuk slicing\n",
    "    a[inclusive:exclusive]\n",
    "    a[inclusive:exclusive: step]"
   ]
  },
  {
   "cell_type": "markdown",
   "id": "60a79540",
   "metadata": {},
   "source": [
    "# Dictionary\n",
    " {\n",
    "        key1:value1,\n",
    "        key2:value2,\n",
    "        key3:value3\n",
    "     }"
   ]
  },
  {
   "cell_type": "markdown",
   "id": "05079815",
   "metadata": {},
   "source": [
    "# Conditional\n",
    " if <kondisi1>:\n",
    "        -------------\n",
    "     elif<kondisi>:\n",
    "        -------------\n",
    "     else:\n",
    "        -------------"
   ]
  },
  {
   "cell_type": "markdown",
   "id": "f63bb228",
   "metadata": {},
   "source": [
    "# iterasi\n",
    "    for a in b:\n",
    "    ----------------\n",
    " maksud nya, untuk a didalam b, a nya mau diapain(mau di print, mau dikasih ke fungsi, bebas)\n"
   ]
  },
  {
   "cell_type": "markdown",
   "id": "f2584cad",
   "metadata": {},
   "source": [
    "# exercise : kucing berhitung\n",
    "* keluarkan angka 1 sampai 20\n",
    "* keluarkan angka 1 sampai 18 saja"
   ]
  },
  {
   "cell_type": "code",
   "execution_count": 7,
   "id": "2162d203",
   "metadata": {
    "scrolled": true
   },
   "outputs": [
    {
     "name": "stdout",
     "output_type": "stream",
     "text": [
      "1\n",
      "2\n",
      "3\n",
      "4\n",
      "5\n",
      "6\n",
      "7\n",
      "8\n",
      "9\n",
      "10\n",
      "11\n",
      "12\n",
      "13\n",
      "14\n",
      "15\n",
      "16\n",
      "17\n",
      "18\n",
      "19\n",
      "20\n"
     ]
    }
   ],
   "source": [
    "for i in range (1, 21):\n",
    "    print (i)"
   ]
  },
  {
   "cell_type": "code",
   "execution_count": 9,
   "id": "117297a5",
   "metadata": {},
   "outputs": [],
   "source": [
    "angka =i"
   ]
  },
  {
   "cell_type": "code",
   "execution_count": 10,
   "id": "8687f4be",
   "metadata": {},
   "outputs": [
    {
     "data": {
      "text/plain": [
       "20"
      ]
     },
     "execution_count": 10,
     "metadata": {},
     "output_type": "execute_result"
    }
   ],
   "source": [
    "angka"
   ]
  },
  {
   "cell_type": "code",
   "execution_count": 14,
   "id": "0091b51a",
   "metadata": {},
   "outputs": [
    {
     "name": "stdout",
     "output_type": "stream",
     "text": [
      "1\n",
      "2\n",
      "3\n",
      "4\n",
      "5\n",
      "6\n",
      "7\n",
      "8\n",
      "9\n",
      "10\n",
      "11\n",
      "12\n",
      "13\n",
      "14\n",
      "15\n",
      "16\n",
      "17\n",
      "18\n",
      "18\n",
      "18\n"
     ]
    }
   ],
   "source": [
    "for angka in range (1, 21):\n",
    "    if angka>18:\n",
    "        print(18)\n",
    "    else:\n",
    "        print(angka)\n",
    "            "
   ]
  },
  {
   "cell_type": "markdown",
   "id": "68e9bd07",
   "metadata": {},
   "source": [
    "# Daftar Pangkat"
   ]
  },
  {
   "cell_type": "code",
   "execution_count": 19,
   "id": "41d3b601",
   "metadata": {},
   "outputs": [],
   "source": [
    "a= [ ]"
   ]
  },
  {
   "cell_type": "code",
   "execution_count": 22,
   "id": "ffb82355",
   "metadata": {},
   "outputs": [],
   "source": [
    "for i in range (0, 5):\n",
    "    a.append(i**2)"
   ]
  },
  {
   "cell_type": "code",
   "execution_count": 23,
   "id": "267d11c7",
   "metadata": {},
   "outputs": [
    {
     "data": {
      "text/plain": [
       "[0, 1, 4, 9, 16]"
      ]
     },
     "execution_count": 23,
     "metadata": {},
     "output_type": "execute_result"
    }
   ],
   "source": [
    "a"
   ]
  },
  {
   "cell_type": "markdown",
   "id": "5a55431c",
   "metadata": {},
   "source": [
    "# List Comprehension\n",
    "* biasa digunakan untuk mempersingkat perulangan dalam loop"
   ]
  },
  {
   "cell_type": "code",
   "execution_count": 24,
   "id": "56f8962f",
   "metadata": {},
   "outputs": [],
   "source": [
    "a=[i**2for i in range(0, 5)]"
   ]
  },
  {
   "cell_type": "markdown",
   "id": "5a01753d",
   "metadata": {},
   "source": [
    "pembacaan nya adalah, untuk i didalam 0 sampai 4, i nya di kuadrat kan, dan dimasukkan kedalam variabel a"
   ]
  },
  {
   "cell_type": "code",
   "execution_count": 25,
   "id": "da9b4d97",
   "metadata": {},
   "outputs": [
    {
     "data": {
      "text/plain": [
       "[0, 1, 4, 9, 16]"
      ]
     },
     "execution_count": 25,
     "metadata": {},
     "output_type": "execute_result"
    }
   ],
   "source": [
    "a"
   ]
  },
  {
   "cell_type": "code",
   "execution_count": 2,
   "id": "7e432e7a",
   "metadata": {},
   "outputs": [
    {
     "data": {
      "text/plain": [
       "{0.05: 0.95, 0.1: 0.9, 0.01: 0.99, 0.25: 0.75}"
      ]
     },
     "execution_count": 2,
     "metadata": {},
     "output_type": "execute_result"
    }
   ],
   "source": [
    "{i: 1-i for i in [0.05, 0.1, 0.01, 0.25]}"
   ]
  },
  {
   "cell_type": "code",
   "execution_count": null,
   "id": "e9400d16",
   "metadata": {},
   "outputs": [],
   "source": []
  },
  {
   "cell_type": "code",
   "execution_count": null,
   "id": "78a61660",
   "metadata": {},
   "outputs": [],
   "source": []
  },
  {
   "cell_type": "code",
   "execution_count": null,
   "id": "6393c9a3",
   "metadata": {},
   "outputs": [],
   "source": []
  },
  {
   "cell_type": "code",
   "execution_count": null,
   "id": "e4f1561f",
   "metadata": {},
   "outputs": [],
   "source": []
  }
 ],
 "metadata": {
  "kernelspec": {
   "display_name": "Python 3",
   "language": "python",
   "name": "python3"
  },
  "language_info": {
   "codemirror_mode": {
    "name": "ipython",
    "version": 3
   },
   "file_extension": ".py",
   "mimetype": "text/x-python",
   "name": "python",
   "nbconvert_exporter": "python",
   "pygments_lexer": "ipython3",
   "version": "3.8.8"
  }
 },
 "nbformat": 4,
 "nbformat_minor": 5
}
