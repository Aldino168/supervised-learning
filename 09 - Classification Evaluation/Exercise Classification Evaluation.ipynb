{
 "cells": [
  {
   "cell_type": "code",
   "execution_count": 23,
   "id": "20279f2e",
   "metadata": {},
   "outputs": [],
   "source": [
    "import numpy as np\n",
    "import pandas as pd\n",
    "import matplotlib.pyplot as plt\n",
    "\n",
    "from sklearn.pipeline import Pipeline\n",
    "from sklearn.compose import ColumnTransformer\n",
    "from sklearn.model_selection import train_test_split, GridSearchCV, RandomizedSearchCV\n",
    "\n",
    "from jcopml.pipeline import cat_pipe,num_pipe\n",
    "from jcopml.tuning import grid_search_params as gsp\n",
    "from jcopml.plot import plot_missing_value\n"
   ]
  },
  {
   "cell_type": "markdown",
   "id": "774e81f8",
   "metadata": {},
   "source": [
    "# import data"
   ]
  },
  {
   "cell_type": "code",
   "execution_count": 3,
   "id": "99b7e848",
   "metadata": {
    "scrolled": false
   },
   "outputs": [
    {
     "data": {
      "text/html": [
       "<div>\n",
       "<style scoped>\n",
       "    .dataframe tbody tr th:only-of-type {\n",
       "        vertical-align: middle;\n",
       "    }\n",
       "\n",
       "    .dataframe tbody tr th {\n",
       "        vertical-align: top;\n",
       "    }\n",
       "\n",
       "    .dataframe thead th {\n",
       "        text-align: right;\n",
       "    }\n",
       "</style>\n",
       "<table border=\"1\" class=\"dataframe\">\n",
       "  <thead>\n",
       "    <tr style=\"text-align: right;\">\n",
       "      <th></th>\n",
       "      <th>edible</th>\n",
       "      <th>cap_shape</th>\n",
       "      <th>cap_surface</th>\n",
       "      <th>cap_color</th>\n",
       "      <th>bruises</th>\n",
       "      <th>odor</th>\n",
       "      <th>gill_attachment</th>\n",
       "      <th>gill_spacing</th>\n",
       "      <th>gill_size</th>\n",
       "      <th>gill_color</th>\n",
       "      <th>stalk_shape</th>\n",
       "      <th>stalk_root</th>\n",
       "      <th>stalk_surface_above_ring</th>\n",
       "      <th>stalk_surface_below_ring</th>\n",
       "      <th>stalk_color_above_ring</th>\n",
       "      <th>stalk_color_below_ring</th>\n",
       "      <th>veil_type</th>\n",
       "      <th>veil_color</th>\n",
       "      <th>ring_number</th>\n",
       "      <th>ring_type</th>\n",
       "      <th>spore_print_color</th>\n",
       "      <th>population</th>\n",
       "      <th>habitat</th>\n",
       "    </tr>\n",
       "  </thead>\n",
       "  <tbody>\n",
       "    <tr>\n",
       "      <th>0</th>\n",
       "      <td>False</td>\n",
       "      <td>convex</td>\n",
       "      <td>smooth</td>\n",
       "      <td>brown</td>\n",
       "      <td>True</td>\n",
       "      <td>pungent</td>\n",
       "      <td>free</td>\n",
       "      <td>close</td>\n",
       "      <td>narrow</td>\n",
       "      <td>black</td>\n",
       "      <td>enlarging</td>\n",
       "      <td>equal</td>\n",
       "      <td>smooth</td>\n",
       "      <td>smooth</td>\n",
       "      <td>white</td>\n",
       "      <td>white</td>\n",
       "      <td>partial</td>\n",
       "      <td>white</td>\n",
       "      <td>1</td>\n",
       "      <td>pendant</td>\n",
       "      <td>black</td>\n",
       "      <td>scattered</td>\n",
       "      <td>urban</td>\n",
       "    </tr>\n",
       "    <tr>\n",
       "      <th>1</th>\n",
       "      <td>True</td>\n",
       "      <td>convex</td>\n",
       "      <td>smooth</td>\n",
       "      <td>yellow</td>\n",
       "      <td>True</td>\n",
       "      <td>almond</td>\n",
       "      <td>free</td>\n",
       "      <td>close</td>\n",
       "      <td>broad</td>\n",
       "      <td>black</td>\n",
       "      <td>enlarging</td>\n",
       "      <td>club</td>\n",
       "      <td>smooth</td>\n",
       "      <td>smooth</td>\n",
       "      <td>white</td>\n",
       "      <td>white</td>\n",
       "      <td>partial</td>\n",
       "      <td>white</td>\n",
       "      <td>1</td>\n",
       "      <td>pendant</td>\n",
       "      <td>brown</td>\n",
       "      <td>numerous</td>\n",
       "      <td>grasses</td>\n",
       "    </tr>\n",
       "    <tr>\n",
       "      <th>2</th>\n",
       "      <td>True</td>\n",
       "      <td>bell</td>\n",
       "      <td>smooth</td>\n",
       "      <td>white</td>\n",
       "      <td>True</td>\n",
       "      <td>anise</td>\n",
       "      <td>free</td>\n",
       "      <td>close</td>\n",
       "      <td>broad</td>\n",
       "      <td>brown</td>\n",
       "      <td>enlarging</td>\n",
       "      <td>club</td>\n",
       "      <td>smooth</td>\n",
       "      <td>smooth</td>\n",
       "      <td>white</td>\n",
       "      <td>white</td>\n",
       "      <td>partial</td>\n",
       "      <td>white</td>\n",
       "      <td>1</td>\n",
       "      <td>pendant</td>\n",
       "      <td>brown</td>\n",
       "      <td>numerous</td>\n",
       "      <td>meadows</td>\n",
       "    </tr>\n",
       "    <tr>\n",
       "      <th>3</th>\n",
       "      <td>False</td>\n",
       "      <td>convex</td>\n",
       "      <td>scaly</td>\n",
       "      <td>white</td>\n",
       "      <td>True</td>\n",
       "      <td>pungent</td>\n",
       "      <td>free</td>\n",
       "      <td>close</td>\n",
       "      <td>narrow</td>\n",
       "      <td>brown</td>\n",
       "      <td>enlarging</td>\n",
       "      <td>equal</td>\n",
       "      <td>smooth</td>\n",
       "      <td>smooth</td>\n",
       "      <td>white</td>\n",
       "      <td>white</td>\n",
       "      <td>partial</td>\n",
       "      <td>white</td>\n",
       "      <td>1</td>\n",
       "      <td>pendant</td>\n",
       "      <td>black</td>\n",
       "      <td>scattered</td>\n",
       "      <td>urban</td>\n",
       "    </tr>\n",
       "    <tr>\n",
       "      <th>4</th>\n",
       "      <td>True</td>\n",
       "      <td>convex</td>\n",
       "      <td>smooth</td>\n",
       "      <td>gray</td>\n",
       "      <td>False</td>\n",
       "      <td>none</td>\n",
       "      <td>free</td>\n",
       "      <td>crowded</td>\n",
       "      <td>broad</td>\n",
       "      <td>black</td>\n",
       "      <td>tapering</td>\n",
       "      <td>equal</td>\n",
       "      <td>smooth</td>\n",
       "      <td>smooth</td>\n",
       "      <td>white</td>\n",
       "      <td>white</td>\n",
       "      <td>partial</td>\n",
       "      <td>white</td>\n",
       "      <td>1</td>\n",
       "      <td>evanescent</td>\n",
       "      <td>brown</td>\n",
       "      <td>abundant</td>\n",
       "      <td>grasses</td>\n",
       "    </tr>\n",
       "  </tbody>\n",
       "</table>\n",
       "</div>"
      ],
      "text/plain": [
       "   edible cap_shape cap_surface cap_color  bruises  ... ring_number   ring_type spore_print_color population  habitat\n",
       "0   False    convex      smooth     brown     True  ...           1     pendant             black  scattered    urban\n",
       "1    True    convex      smooth    yellow     True  ...           1     pendant             brown   numerous  grasses\n",
       "2    True      bell      smooth     white     True  ...           1     pendant             brown   numerous  meadows\n",
       "3   False    convex       scaly     white     True  ...           1     pendant             black  scattered    urban\n",
       "4    True    convex      smooth      gray    False  ...           1  evanescent             brown   abundant  grasses\n",
       "\n",
       "[5 rows x 23 columns]"
      ]
     },
     "execution_count": 3,
     "metadata": {},
     "output_type": "execute_result"
    }
   ],
   "source": [
    "df= pd.read_csv(\"data/mushrooms.csv\")\n",
    "df.head()"
   ]
  },
  {
   "cell_type": "code",
   "execution_count": 21,
   "id": "c85a1ae4",
   "metadata": {},
   "outputs": [
    {
     "data": {
      "text/plain": [
       "1    7488\n",
       "2     600\n",
       "0      36\n",
       "Name: ring_number, dtype: int64"
      ]
     },
     "execution_count": 21,
     "metadata": {},
     "output_type": "execute_result"
    }
   ],
   "source": [
    "df.ring_number.value_counts()"
   ]
  },
  {
   "cell_type": "markdown",
   "id": "d74f5b8f",
   "metadata": {},
   "source": [
    "# liat jumlah data target jika klasifikasi, balance atau imbalance"
   ]
  },
  {
   "cell_type": "code",
   "execution_count": 5,
   "id": "1ad68641",
   "metadata": {},
   "outputs": [
    {
     "data": {
      "text/plain": [
       "True     4208\n",
       "False    3916\n",
       "Name: edible, dtype: int64"
      ]
     },
     "execution_count": 5,
     "metadata": {},
     "output_type": "execute_result"
    }
   ],
   "source": [
    "df.edible.value_counts()"
   ]
  },
  {
   "cell_type": "markdown",
   "id": "c633e94f",
   "metadata": {},
   "source": [
    "ternyata lumayan balance"
   ]
  },
  {
   "cell_type": "code",
   "execution_count": 8,
   "id": "5cbb0201",
   "metadata": {},
   "outputs": [
    {
     "data": {
      "text/html": [
       "<div>\n",
       "<style scoped>\n",
       "    .dataframe tbody tr th:only-of-type {\n",
       "        vertical-align: middle;\n",
       "    }\n",
       "\n",
       "    .dataframe tbody tr th {\n",
       "        vertical-align: top;\n",
       "    }\n",
       "\n",
       "    .dataframe thead th {\n",
       "        text-align: right;\n",
       "    }\n",
       "</style>\n",
       "<table border=\"1\" class=\"dataframe\">\n",
       "  <thead>\n",
       "    <tr style=\"text-align: right;\">\n",
       "      <th></th>\n",
       "      <th>missing_value</th>\n",
       "      <th>%</th>\n",
       "    </tr>\n",
       "  </thead>\n",
       "  <tbody>\n",
       "    <tr>\n",
       "      <th>edible</th>\n",
       "      <td>0</td>\n",
       "      <td>0.00</td>\n",
       "    </tr>\n",
       "    <tr>\n",
       "      <th>cap_shape</th>\n",
       "      <td>0</td>\n",
       "      <td>0.00</td>\n",
       "    </tr>\n",
       "    <tr>\n",
       "      <th>cap_surface</th>\n",
       "      <td>0</td>\n",
       "      <td>0.00</td>\n",
       "    </tr>\n",
       "    <tr>\n",
       "      <th>cap_color</th>\n",
       "      <td>0</td>\n",
       "      <td>0.00</td>\n",
       "    </tr>\n",
       "    <tr>\n",
       "      <th>bruises</th>\n",
       "      <td>0</td>\n",
       "      <td>0.00</td>\n",
       "    </tr>\n",
       "    <tr>\n",
       "      <th>odor</th>\n",
       "      <td>0</td>\n",
       "      <td>0.00</td>\n",
       "    </tr>\n",
       "    <tr>\n",
       "      <th>gill_attachment</th>\n",
       "      <td>0</td>\n",
       "      <td>0.00</td>\n",
       "    </tr>\n",
       "    <tr>\n",
       "      <th>gill_spacing</th>\n",
       "      <td>0</td>\n",
       "      <td>0.00</td>\n",
       "    </tr>\n",
       "    <tr>\n",
       "      <th>gill_size</th>\n",
       "      <td>0</td>\n",
       "      <td>0.00</td>\n",
       "    </tr>\n",
       "    <tr>\n",
       "      <th>gill_color</th>\n",
       "      <td>0</td>\n",
       "      <td>0.00</td>\n",
       "    </tr>\n",
       "    <tr>\n",
       "      <th>stalk_shape</th>\n",
       "      <td>0</td>\n",
       "      <td>0.00</td>\n",
       "    </tr>\n",
       "    <tr>\n",
       "      <th>stalk_root</th>\n",
       "      <td>2480</td>\n",
       "      <td>30.53</td>\n",
       "    </tr>\n",
       "    <tr>\n",
       "      <th>stalk_surface_above_ring</th>\n",
       "      <td>0</td>\n",
       "      <td>0.00</td>\n",
       "    </tr>\n",
       "    <tr>\n",
       "      <th>stalk_surface_below_ring</th>\n",
       "      <td>0</td>\n",
       "      <td>0.00</td>\n",
       "    </tr>\n",
       "    <tr>\n",
       "      <th>stalk_color_above_ring</th>\n",
       "      <td>192</td>\n",
       "      <td>2.36</td>\n",
       "    </tr>\n",
       "    <tr>\n",
       "      <th>stalk_color_below_ring</th>\n",
       "      <td>192</td>\n",
       "      <td>2.36</td>\n",
       "    </tr>\n",
       "    <tr>\n",
       "      <th>veil_type</th>\n",
       "      <td>0</td>\n",
       "      <td>0.00</td>\n",
       "    </tr>\n",
       "    <tr>\n",
       "      <th>veil_color</th>\n",
       "      <td>0</td>\n",
       "      <td>0.00</td>\n",
       "    </tr>\n",
       "    <tr>\n",
       "      <th>ring_number</th>\n",
       "      <td>0</td>\n",
       "      <td>0.00</td>\n",
       "    </tr>\n",
       "    <tr>\n",
       "      <th>ring_type</th>\n",
       "      <td>0</td>\n",
       "      <td>0.00</td>\n",
       "    </tr>\n",
       "    <tr>\n",
       "      <th>spore_print_color</th>\n",
       "      <td>0</td>\n",
       "      <td>0.00</td>\n",
       "    </tr>\n",
       "    <tr>\n",
       "      <th>population</th>\n",
       "      <td>0</td>\n",
       "      <td>0.00</td>\n",
       "    </tr>\n",
       "    <tr>\n",
       "      <th>habitat</th>\n",
       "      <td>0</td>\n",
       "      <td>0.00</td>\n",
       "    </tr>\n",
       "  </tbody>\n",
       "</table>\n",
       "</div>"
      ],
      "text/plain": [
       "                          missing_value      %\n",
       "edible                                0   0.00\n",
       "cap_shape                             0   0.00\n",
       "cap_surface                           0   0.00\n",
       "cap_color                             0   0.00\n",
       "bruises                               0   0.00\n",
       "odor                                  0   0.00\n",
       "gill_attachment                       0   0.00\n",
       "gill_spacing                          0   0.00\n",
       "gill_size                             0   0.00\n",
       "gill_color                            0   0.00\n",
       "stalk_shape                           0   0.00\n",
       "stalk_root                         2480  30.53\n",
       "stalk_surface_above_ring              0   0.00\n",
       "stalk_surface_below_ring              0   0.00\n",
       "stalk_color_above_ring              192   2.36\n",
       "stalk_color_below_ring              192   2.36\n",
       "veil_type                             0   0.00\n",
       "veil_color                            0   0.00\n",
       "ring_number                           0   0.00\n",
       "ring_type                             0   0.00\n",
       "spore_print_color                     0   0.00\n",
       "population                            0   0.00\n",
       "habitat                               0   0.00"
      ]
     },
     "execution_count": 8,
     "metadata": {},
     "output_type": "execute_result"
    },
    {
     "data": {
      "image/png": "[encoded data removed]",
      "text/plain": [
       "<Figure size 1080x576 with 1 Axes>"
      ]
     },
     "metadata": {
      "needs_background": "light"
     },
     "output_type": "display_data"
    }
   ],
   "source": [
    "plot_missing_value(df,return_df=True)"
   ]
  },
  {
   "cell_type": "markdown",
   "id": "a41e8bc1",
   "metadata": {},
   "source": [
    "# Association Matrix"
   ]
  },
  {
   "cell_type": "code",
   "execution_count": 6,
   "id": "7677f607",
   "metadata": {},
   "outputs": [],
   "source": [
    "from jcopml.plot import plot_association_matrix"
   ]
  },
  {
   "cell_type": "code",
   "execution_count": 10,
   "id": "c759ba0a",
   "metadata": {},
   "outputs": [
    {
     "ename": "ValueError",
     "evalue": "Categorical column should have at least 2 category\nYou should remove these column from your data -> veil_type",
     "output_type": "error",
     "traceback": [
      "\u001b[1;31m---------------------------------------------------------------------------\u001b[0m",
      "\u001b[1;31mValueError\u001b[0m                                Traceback (most recent call last)",
      "\u001b[1;32m<ipython-input-10-f8da82eeec2b>\u001b[0m in \u001b[0;36m<module>\u001b[1;34m\u001b[0m\n\u001b[1;32m----> 1\u001b[1;33m \u001b[0mplot_association_matrix\u001b[0m\u001b[1;33m(\u001b[0m\u001b[0mdf\u001b[0m\u001b[1;33m,\u001b[0m \u001b[0mdf\u001b[0m\u001b[1;33m.\u001b[0m\u001b[0medible\u001b[0m\u001b[1;33m,\u001b[0m \u001b[0mcategoric_col\u001b[0m\u001b[1;33m=\u001b[0m\u001b[1;34m'auto'\u001b[0m\u001b[1;33m)\u001b[0m\u001b[1;33m\u001b[0m\u001b[1;33m\u001b[0m\u001b[0m\n\u001b[0m",
      "\u001b[1;32m~\\anaconda3\\lib\\site-packages\\jcopml\\plot\\_association_matrix.py\u001b[0m in \u001b[0;36mplot_association_matrix\u001b[1;34m(df, target_col, categoric_col)\u001b[0m\n\u001b[0;32m     94\u001b[0m     \u001b[0msingle_category_col\u001b[0m \u001b[1;33m=\u001b[0m \u001b[0mlist\u001b[0m\u001b[1;33m(\u001b[0m\u001b[0mtmp\u001b[0m\u001b[1;33m[\u001b[0m\u001b[0mtmp\u001b[0m \u001b[1;33m==\u001b[0m \u001b[1;36m1\u001b[0m\u001b[1;33m]\u001b[0m\u001b[1;33m.\u001b[0m\u001b[0mindex\u001b[0m\u001b[1;33m)\u001b[0m\u001b[1;33m\u001b[0m\u001b[1;33m\u001b[0m\u001b[0m\n\u001b[0;32m     95\u001b[0m     \u001b[1;32mif\u001b[0m \u001b[0msingle_category_col\u001b[0m\u001b[1;33m:\u001b[0m\u001b[1;33m\u001b[0m\u001b[1;33m\u001b[0m\u001b[0m\n\u001b[1;32m---> 96\u001b[1;33m         raise ValueError(f\"Categorical column should have at least 2 category\\n\"\n\u001b[0m\u001b[0;32m     97\u001b[0m                          f\"You should remove these column from your data -> {', '.join(single_category_col)}\")\n\u001b[0;32m     98\u001b[0m \u001b[1;33m\u001b[0m\u001b[0m\n",
      "\u001b[1;31mValueError\u001b[0m: Categorical column should have at least 2 category\nYou should remove these column from your data -> veil_type"
     ]
    }
   ],
   "source": [
    "plot_association_matrix(df, df.edible, categoric_col='auto')"
   ]
  },
  {
   "cell_type": "code",
   "execution_count": 12,
   "id": "126933ed",
   "metadata": {},
   "outputs": [
    {
     "data": {
      "text/plain": [
       "partial    8124\n",
       "Name: veil_type, dtype: int64"
      ]
     },
     "execution_count": 12,
     "metadata": {},
     "output_type": "execute_result"
    }
   ],
   "source": [
    "df.veil_type.value_counts()"
   ]
  },
  {
   "cell_type": "code",
   "execution_count": 14,
   "id": "1456f20d",
   "metadata": {},
   "outputs": [],
   "source": [
    "df.drop(columns='veil_type',inplace=True)"
   ]
  },
  {
   "cell_type": "code",
   "execution_count": 16,
   "id": "160bcf6a",
   "metadata": {},
   "outputs": [
    {
     "data": {
      "application/vnd.jupyter.widget-view+json": {
       "model_id": "ebda01c344f64c2b860ae42ec8c9e84e",
       "version_major": 2,
       "version_minor": 0
      },
      "text/plain": [
       "interactive(children=(ToggleButtons(description='method', options=(\"Cramer's V\", 'Proficiency U(X|Y)', 'Profic…"
      ]
     },
     "metadata": {},
     "output_type": "display_data"
    }
   ],
   "source": [
    "plot_association_matrix(df, \"edible\", categoric_col='auto')"
   ]
  },
  {
   "cell_type": "markdown",
   "id": "04e49ba8",
   "metadata": {},
   "source": [
    "# Dataset Splitting"
   ]
  },
  {
   "cell_type": "code",
   "execution_count": 20,
   "id": "691ab8c7",
   "metadata": {},
   "outputs": [
    {
     "data": {
      "text/plain": [
       "((5443, 4), (2681, 4), (5443,), (2681,))"
      ]
     },
     "execution_count": 20,
     "metadata": {},
     "output_type": "execute_result"
    }
   ],
   "source": [
    "X=df[['odor','gill_color','ring_type', 'spore_print_color']]\n",
    "y=df.edible\n",
    "\n",
    "X_train, X_test, y_train, y_test = train_test_split(X, y, test_size=0.33,stratify=y, random_state=42)\n",
    "X_train.shape, X_test.shape, y_train.shape, y_test.shape"
   ]
  },
  {
   "cell_type": "markdown",
   "id": "4ea75575",
   "metadata": {},
   "source": [
    "# training\n",
    "* karna data X nya udah di definisikan setelah melihat plot dari association matrix, maka jelas terlihat bahwa semua kolom feature (X) adalah kolom kategori"
   ]
  },
  {
   "cell_type": "code",
   "execution_count": 22,
   "id": "135617b2",
   "metadata": {},
   "outputs": [],
   "source": [
    "from sklearn.linear_model import LogisticRegression"
   ]
  },
  {
   "cell_type": "code",
   "execution_count": 24,
   "id": "341db356",
   "metadata": {},
   "outputs": [
    {
     "name": "stdout",
     "output_type": "stream",
     "text": [
      "Fitting 3 folds for each of 14 candidates, totalling 42 fits\n",
      "{'algo__C': 10.0, 'algo__fit_intercept': True}\n",
      "0.9941208892155061 0.9941210238093069 0.9955240581872435\n"
     ]
    }
   ],
   "source": [
    "preprocessor= ColumnTransformer([\n",
    "    ('categoric', cat_pipe(encoder='onehot'),X_train.columns)\n",
    "])\n",
    "\n",
    "pipeline=Pipeline([\n",
    "    ('prep',preprocessor),\n",
    "    ('algo',LogisticRegression(random_state=42,n_jobs=-1))\n",
    "])\n",
    "\n",
    "model= GridSearchCV(pipeline, gsp.logreg_params, cv=3, n_jobs=-1, verbose=1)\n",
    "model.fit(X_train,y_train)\n",
    "\n",
    "print(model.best_params_)\n",
    "print(model.score(X_train,y_train),model.best_score_ , model.score(X_test,y_test))\n"
   ]
  },
  {
   "cell_type": "code",
   "execution_count": 25,
   "id": "92088297",
   "metadata": {},
   "outputs": [
    {
     "name": "stdout",
     "output_type": "stream",
     "text": [
      "Fitting 3 folds for each of 14 candidates, totalling 42 fits\n",
      "{'algo__C': 10.0, 'algo__fit_intercept': True}\n",
      "0.9941208892155061 0.9941210238093069 0.9955240581872435\n"
     ]
    }
   ],
   "source": [
    "preprocessor= ColumnTransformer([\n",
    "    ('categoric', cat_pipe(encoder='onehot'),X_train.columns)\n",
    "])\n",
    "\n",
    "pipeline=Pipeline([\n",
    "    ('prep',preprocessor),\n",
    "    ('algo',LogisticRegression(multi_class='multinomial',random_state=42,n_jobs=-1))\n",
    "])\n",
    "\n",
    "model= GridSearchCV(pipeline, gsp.logreg_params, cv=3, n_jobs=-1, verbose=1)\n",
    "model.fit(X_train,y_train)\n",
    "\n",
    "print(model.best_params_)\n",
    "print(model.score(X_train,y_train),model.best_score_ , model.score(X_test,y_test))\n"
   ]
  },
  {
   "cell_type": "markdown",
   "id": "9822d2dc",
   "metadata": {},
   "source": [
    "# feature importance"
   ]
  },
  {
   "cell_type": "code",
   "execution_count": 26,
   "id": "05f58e92",
   "metadata": {},
   "outputs": [],
   "source": [
    "from jcopml.feature_importance import mean_score_decrease"
   ]
  },
  {
   "cell_type": "code",
   "execution_count": 27,
   "id": "aa817dfe",
   "metadata": {},
   "outputs": [
    {
     "data": {
      "image/png": "[encoded data removed]",
      "text/plain": [
       "<Figure size 1080x360 with 1 Axes>"
      ]
     },
     "metadata": {
      "needs_background": "light"
     },
     "output_type": "display_data"
    }
   ],
   "source": [
    "df_imp = mean_score_decrease(X_train, y_train, model, plot=True, topk=10)"
   ]
  },
  {
   "cell_type": "markdown",
   "id": "b263ff99",
   "metadata": {},
   "source": [
    "# evaluation\n",
    "* matrix confusion, report, roc, pr"
   ]
  },
  {
   "cell_type": "code",
   "execution_count": 28,
   "id": "d9e66e05",
   "metadata": {},
   "outputs": [],
   "source": [
    "from jcopml.plot import plot_confusion_matrix,plot_classification_report,plot_pr_curve,plot_roc_curve"
   ]
  },
  {
   "cell_type": "code",
   "execution_count": 29,
   "id": "1dfab111",
   "metadata": {},
   "outputs": [
    {
     "data": {
      "image/png": "[encoded data removed]",
      "text/plain": [
       "<Figure size 792x360 with 2 Axes>"
      ]
     },
     "metadata": {
      "needs_background": "light"
     },
     "output_type": "display_data"
    }
   ],
   "source": [
    "plot_confusion_matrix(X_train, y_train, X_test, y_test, model)"
   ]
  },
  {
   "cell_type": "markdown",
   "id": "b98d6de3",
   "metadata": {},
   "source": [
    "terlihat bahwa ada yang false yang seharusnya di actual malah kita prediksi true, maka perlu difokuskan pada true negative tersebut"
   ]
  },
  {
   "cell_type": "code",
   "execution_count": 30,
   "id": "972d6353",
   "metadata": {},
   "outputs": [
    {
     "name": "stdout",
     "output_type": "stream",
     "text": [
      "Train report\n",
      "              precision    recall  f1-score   support\n",
      "\n",
      "       False       1.00      0.99      0.99      2624\n",
      "        True       0.99      1.00      0.99      2819\n",
      "\n",
      "    accuracy                           0.99      5443\n",
      "   macro avg       0.99      0.99      0.99      5443\n",
      "weighted avg       0.99      0.99      0.99      5443\n",
      "\n",
      "\n",
      "Test report\n",
      "              precision    recall  f1-score   support\n",
      "\n",
      "       False       1.00      0.99      1.00      1292\n",
      "        True       0.99      1.00      1.00      1389\n",
      "\n",
      "    accuracy                           1.00      2681\n",
      "   macro avg       1.00      1.00      1.00      2681\n",
      "weighted avg       1.00      1.00      1.00      2681\n",
      "\n"
     ]
    }
   ],
   "source": [
    "plot_classification_report(X_train, y_train, X_test, y_test, model, report=True)"
   ]
  },
  {
   "cell_type": "markdown",
   "id": "dcb37245",
   "metadata": {},
   "source": [
    "sudah terlihat dari report bahwa dari matrix precision recal dan f1 nya udah cukup baik. berarti model kita korelasi nya udah lumayan baik"
   ]
  },
  {
   "cell_type": "code",
   "execution_count": 31,
   "id": "939400a1",
   "metadata": {},
   "outputs": [
    {
     "data": {
      "image/png": "[encoded data removed]",
      "text/plain": [
       "<Figure size 936x432 with 2 Axes>"
      ]
     },
     "metadata": {
      "needs_background": "light"
     },
     "output_type": "display_data"
    }
   ],
   "source": [
    "plot_roc_curve(X_train, y_train, X_test, y_test, model)"
   ]
  },
  {
   "cell_type": "markdown",
   "id": "7bdbb2e4",
   "metadata": {},
   "source": [
    "di plot roc juga udah menunjukkan kurva yang baik"
   ]
  },
  {
   "cell_type": "code",
   "execution_count": 32,
   "id": "329b25a3",
   "metadata": {},
   "outputs": [
    {
     "data": {
      "image/png": "[encoded data removed]",
      "text/plain": [
       "<Figure size 936x432 with 2 Axes>"
      ]
     },
     "metadata": {
      "needs_background": "light"
     },
     "output_type": "display_data"
    }
   ],
   "source": [
    "plot_pr_curve(X_train, y_train, X_test, y_test, model)"
   ]
  },
  {
   "cell_type": "markdown",
   "id": "02ecbce9",
   "metadata": {},
   "source": [
    "# insight from data"
   ]
  },
  {
   "cell_type": "code",
   "execution_count": 36,
   "id": "c4d2a596",
   "metadata": {},
   "outputs": [
    {
     "name": "stderr",
     "output_type": "stream",
     "text": [
      "C:\\Users\\Rahmat\\anaconda3\\lib\\site-packages\\seaborn\\_decorators.py:36: FutureWarning: Pass the following variable as a keyword arg: x. From version 0.12, the only valid positional argument will be `data`, and passing other arguments without an explicit keyword will result in an error or misinterpretation.\n",
      "  warnings.warn(\n",
      "C:\\Users\\Rahmat\\anaconda3\\lib\\site-packages\\seaborn\\_decorators.py:36: FutureWarning: Pass the following variable as a keyword arg: x. From version 0.12, the only valid positional argument will be `data`, and passing other arguments without an explicit keyword will result in an error or misinterpretation.\n",
      "  warnings.warn(\n",
      "C:\\Users\\Rahmat\\anaconda3\\lib\\site-packages\\seaborn\\_decorators.py:36: FutureWarning: Pass the following variable as a keyword arg: x. From version 0.12, the only valid positional argument will be `data`, and passing other arguments without an explicit keyword will result in an error or misinterpretation.\n",
      "  warnings.warn(\n",
      "C:\\Users\\Rahmat\\anaconda3\\lib\\site-packages\\seaborn\\_decorators.py:36: FutureWarning: Pass the following variable as a keyword arg: x. From version 0.12, the only valid positional argument will be `data`, and passing other arguments without an explicit keyword will result in an error or misinterpretation.\n",
      "  warnings.warn(\n"
     ]
    },
    {
     "data": {
      "image/png": "[encoded data removed]",
      "text/plain": [
       "<Figure size 1080x720 with 4 Axes>"
      ]
     },
     "metadata": {
      "needs_background": "light"
     },
     "output_type": "display_data"
    }
   ],
   "source": [
    "import seaborn as sns\n",
    "\n",
    "plt.figure(figsize=(15,10))\n",
    "plt.subplot(221)\n",
    "sns.countplot('odor', data=df, hue='edible')\n",
    "plt.subplot(222)\n",
    "sns.countplot('spore_print_color', data= df, hue= 'edible')\n",
    "plt.subplot(223)\n",
    "sns.countplot('gill_color', data=df, hue= 'edible')\n",
    "plt.subplot(224)\n",
    "sns.countplot('ring_type', data=df, hue= 'edible')"
   ]
  },
  {
   "cell_type": "markdown",
   "id": "1f20103b",
   "metadata": {},
   "source": [
    "insight dari data odor terhadap edible atau not edible terlihat bahwa yang tidak berbau (odor) related dengan edible, dan yang not edible related dengan odor yang foul, creasote, fishy, spicy, musty, dll. pada data spore_print_color insight yang bisa diambil bahwa warna spore yang brown dan hitam related dengan edible walaupun ada sebagian ada yang not edible, dan yang warna putih dan chocolate lebih cenderung related dengan not edible. begitu juga analisis data seterus nya."
   ]
  },
  {
   "cell_type": "markdown",
   "id": "ede165c9",
   "metadata": {},
   "source": [
    "# correlation ratio"
   ]
  },
  {
   "cell_type": "code",
   "execution_count": 37,
   "id": "055cd9eb",
   "metadata": {},
   "outputs": [],
   "source": [
    "from jcopml.plot import plot_correlation_ratio"
   ]
  },
  {
   "cell_type": "code",
   "execution_count": 38,
   "id": "65270341",
   "metadata": {},
   "outputs": [
    {
     "data": {
      "image/png": "[encoded data removed]",
      "text/plain": [
       "<Figure size 432x288 with 1 Axes>"
      ]
     },
     "metadata": {
      "needs_background": "light"
     },
     "output_type": "display_data"
    }
   ],
   "source": [
    "plot_correlation_ratio(df, ['edible'],['ring_number'] )"
   ]
  },
  {
   "cell_type": "markdown",
   "id": "829389d9",
   "metadata": {},
   "source": [
    "terlihat bahwa korelasi antara feature yang numerik tidak ada hubungan nya dengan target kategorik kita tadi"
   ]
  },
  {
   "cell_type": "code",
   "execution_count": null,
   "id": "c4040065",
   "metadata": {},
   "outputs": [],
   "source": []
  }
 ],
 "metadata": {
  "kernelspec": {
   "display_name": "Python 3",
   "language": "python",
   "name": "python3"
  },
  "language_info": {
   "codemirror_mode": {
    "name": "ipython",
    "version": 3
   },
   "file_extension": ".py",
   "mimetype": "text/x-python",
   "name": "python",
   "nbconvert_exporter": "python",
   "pygments_lexer": "ipython3",
   "version": "3.8.8"
  }
 },
 "nbformat": 4,
 "nbformat_minor": 5
}
